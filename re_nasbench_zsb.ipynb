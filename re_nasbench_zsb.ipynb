{
  "nbformat": 4,
  "nbformat_minor": 0,
  "metadata": {
    "colab": {
      "name": "re_nasbench_zsb.ipynb",
      "provenance": [],
      "collapsed_sections": [],
      "toc_visible": true
    },
    "kernelspec": {
      "name": "python3",
      "display_name": "Python 3"
    },
    "language_info": {
      "name": "python"
    }
  },
  "cells": [
    {
      "cell_type": "markdown",
      "source": [
        "下载Nasbench库和数据集"
      ],
      "metadata": {
        "id": "d8z1nFpZo659"
      }
    },
    {
      "cell_type": "code",
      "source": [
        "# This code was written in TF 1.12 but should be supported all the way through\n",
        "# TF 1.15. Untested in TF 2.0+.\n",
        "%tensorflow_version 1.x\n",
        "\n",
        "# Download the raw data (only 108 epoch data points, for full dataset,\n",
        "# uncomment the second line for nasbench_full.tfrecord).\n",
        "\n",
        "!curl -O https://storage.googleapis.com/nasbench/nasbench_only108.tfrecord\n",
        "# !curl -O https://storage.googleapis.com/nasbench/nasbench_full.tfrecord\n",
        "\n",
        "# Clone and install the code and dependencies.\n",
        "\n",
        "!git clone https://github.com/google-research/nasbench\n",
        "!pip install ./nasbench\n",
        "\n",
        "# Initialize the NASBench object which parses the raw data into memory (this\n",
        "# should only be run once as it takes up to a few minutes).\n",
        "from nasbench import api\n",
        "\n",
        "# Use nasbench_full.tfrecord for full dataset (run download command above).\n",
        "nasbench = api.NASBench('nasbench_only108.tfrecord')"
      ],
      "metadata": {
        "id": "w_wTsyOLo9EL"
      },
      "execution_count": null,
      "outputs": []
    },
    {
      "cell_type": "markdown",
      "source": [
        "导入使用的库和配置变量"
      ],
      "metadata": {
        "id": "Vqc0--NCplOU"
      }
    },
    {
      "cell_type": "code",
      "source": [
        "import copy\n",
        "import numpy as np\n",
        "import matplotlib.pyplot as plt\n",
        "import random\n",
        "\n",
        "INPUT = 'input'           # 输入层\n",
        "OUTPUT = 'output'          # 输出层\n",
        "CONV3X3 = 'conv3x3-bn-relu'     # 卷积3×3\n",
        "CONV1X1 = 'conv1x1-bn-relu'     # 卷积1×1\n",
        "MAXPOOL3X3 = 'maxpool3x3'      # 最大值池化3×3\n",
        "NUM_VERTICES = 7           # 隐藏节点数\n",
        "MAX_EDGES = 9            # 最大连接边数\n",
        "EDGE_SPOTS = NUM_VERTICES * (NUM_VERTICES - 1) / 2   # 上三角矩阵大小\n",
        "OP_SPOTS = NUM_VERTICES - 2                 # 除去输入输出层的隐藏节点数\n",
        "ALLOWED_OPS = [CONV3X3, CONV1X1, MAXPOOL3X3]        # 允许的边操作\n",
        "ALLOWED_EDGES = [0, 1]                    # 二值化邻接矩阵"
      ],
      "metadata": {
        "id": "Y0DgIjU0pjwF"
      },
      "execution_count": 2,
      "outputs": []
    },
    {
      "cell_type": "markdown",
      "source": [
        "regularization evolution实现"
      ],
      "metadata": {
        "id": "wVXCyHETqzT6"
      }
    },
    {
      "cell_type": "code",
      "source": [
        "def random_spec():\n",
        "  # 返回一个随机的种群，用于进化算法的初始化\n",
        "  while True: \n",
        "    matrix = np.random.choice(ALLOWED_EDGES, size=(NUM_VERTICES, NUM_VERTICES))    # 构造一个大小num_v×num_v的01矩阵\n",
        "    matrix = np.triu(matrix,1)                              # 保留上三角矩阵，保证有向无环性质\n",
        "    ops = np.random.choice(ALLOWED_OPS, size=(NUM_VERTICES)).tolist()          # 构造操作矩阵\n",
        "    ops[0] = INPUT                                   \n",
        "    ops[-1] = OUTPUT\n",
        "    spec = api.ModelSpec(matrix=matrix, ops=ops)                    # 通过matrix和ops矩阵构造种群\n",
        "    if nasbench.is_valid(spec):                             # 判断种群是否满足nasbench规范\n",
        "      return spec\n",
        "\n",
        "def mutate_spec(old_spec, mutation_rate=1.0):\n",
        "  # 演化操作\n",
        "  while True:\n",
        "    new_matrix = copy.deepcopy(old_spec.original_matrix)                # 拷贝matrix矩阵\n",
        "    new_ops = copy.deepcopy(old_spec.original_ops)                   # 拷贝ops矩阵\n",
        "\n",
        "    # In expectation, V edges flipped (note that most end up being pruned).\n",
        "    edge_mutation_prob = mutation_rate / NUM_VERTICES                # 演化概率\n",
        "    for src in range(0, NUM_VERTICES - 1):                     # 进行hidden state的mutation\n",
        "      for dst in range(src + 1, NUM_VERTICES):\n",
        "        if random.random() < edge_mutation_prob:\n",
        "          new_matrix[src, dst] = 1 - new_matrix[src, dst]\n",
        "          \n",
        "    # In expectation, one op is resampled.\n",
        "    op_mutation_prob = mutation_rate / OP_SPOTS                   # 演化概率\n",
        "    for ind in range(1, NUM_VERTICES - 1):                     # 进行op的mutation\n",
        "      if random.random() < op_mutation_prob:\n",
        "        available = [o for o in nasbench.config['available_ops'] if o != new_ops[ind]]\n",
        "        new_ops[ind] = random.choice(available)\n",
        "        \n",
        "    new_spec = api.ModelSpec(new_matrix, new_ops)                   # 判断演化后的种群是否满足nasbench规范\n",
        "    if nasbench.is_valid(new_spec):\n",
        "      return new_spec\n",
        "\n",
        "def random_combination(population, sample_size):\n",
        "  # 从所有种群中随机采样sample_size个种群\n",
        "  pool = tuple(population)\n",
        "  n = len(pool)\n",
        "  indices = sorted(random.sample(range(n), sample_size))\n",
        "  return tuple(pool[i] for i in indices)\n",
        "\n",
        "def regularization_evolution_search(epoch=1000,\n",
        "                         population_size=50,\n",
        "                         tournament_size=10,\n",
        "                         mutation_rate=1.0):\n",
        "  nasbench.reset_budget_counters()\n",
        "  best_valids, best_tests = [0.0], [0.0]        # 记录最好种群的准确率\n",
        "  population = []                      # (validation, spec)元组\n",
        "\n",
        "  # 随机初始化population_size个种群\n",
        "  for _ in range(population_size):\n",
        "    spec = random_spec()\n",
        "    data = nasbench.query(spec)\n",
        "    population.append((data['validation_accuracy'], spec))\n",
        "\n",
        "    # 记录最高准确率\n",
        "    if data['validation_accuracy'] > best_valids[-1]:\n",
        "      best_valids.append(data['validation_accuracy'])\n",
        "      best_tests.append(data['test_accuracy'])\n",
        "    else:\n",
        "      best_valids.append(best_valids[-1])\n",
        "      best_tests.append(best_tests[-1])\n",
        "\n",
        "  # 开始演化\n",
        "  for _ in range(epoch):\n",
        "    sample = random_combination(population, tournament_size)    # 从所有种群中随机选择tournament_size个种群（锦标赛种群）\n",
        "    best_spec = sorted(sample, key=lambda i:i[0])[-1][1]      # 获取锦标赛种群中准确率最高的种群\n",
        "    new_spec = mutate_spec(best_spec, mutation_rate)        # 将这个最好的种群进行演化\n",
        "\n",
        "    data = nasbench.query(new_spec)\n",
        "\n",
        "    # 加入新种群，去掉最老的种群\n",
        "    population.append((data['validation_accuracy'], new_spec))\n",
        "    population.pop(0)\n",
        "\n",
        "    if data['validation_accuracy'] > best_valids[-1]:\n",
        "      best_valids.append(data['validation_accuracy'])\n",
        "      best_tests.append(data['test_accuracy'])\n",
        "    else:\n",
        "      best_valids.append(best_valids[-1])\n",
        "      best_tests.append(best_tests[-1])\n",
        "\n",
        "  return best_valids, best_tests"
      ],
      "metadata": {
        "id": "GU56pAssq-xw"
      },
      "execution_count": 8,
      "outputs": []
    },
    {
      "cell_type": "markdown",
      "source": [
        "运行算法（epochs次演化）"
      ],
      "metadata": {
        "id": "wZVyH-7qzZdk"
      }
    },
    {
      "cell_type": "code",
      "source": [
        "epochs=10000\n",
        "best_valids, best_tests = regularization_evolution_search(epoch=epochs)\n",
        "print(\"search end\")"
      ],
      "metadata": {
        "colab": {
          "base_uri": "https://localhost:8080/"
        },
        "id": "LZE4YESXrOkz",
        "outputId": "1809be33-6483-46ca-8319-020d68f200e1"
      },
      "execution_count": 20,
      "outputs": [
        {
          "output_type": "stream",
          "name": "stdout",
          "text": [
            "search end\n"
          ]
        }
      ]
    },
    {
      "cell_type": "markdown",
      "source": [
        "构造实验结果图"
      ],
      "metadata": {
        "id": "KRqUFBNAyfE8"
      }
    },
    {
      "cell_type": "code",
      "source": [
        "x=np.arange(len(best_tests))\n",
        "plt.xlabel(\"Model Searched\")\n",
        "plt.ylabel(\"Top Testing Accuarcy\")\n",
        "plt.ylim(0.92, 0.96)\n",
        "plt.grid()\n",
        "plt.plot(x,best_valids,color='red',label='valid')\n",
        "plt.plot(x,best_tests,color='blue',label='test')\n",
        "plt.show()"
      ],
      "metadata": {
        "colab": {
          "base_uri": "https://localhost:8080/",
          "height": 283
        },
        "id": "-IgmE4C0ztu0",
        "outputId": "2fec04e4-0de2-4637-edf6-5d853ac9bea8"
      },
      "execution_count": 22,
      "outputs": [
        {
          "output_type": "display_data",
          "data": {
            "text/plain": [
              "<Figure size 432x288 with 1 Axes>"
            ],
            "image/png": "[encoded data removed]"
          },
          "metadata": {
            "needs_background": "light"
          }
        }
      ]
    }
  ]
}